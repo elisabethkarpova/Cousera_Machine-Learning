{
 "cells": [
  {
   "cell_type": "markdown",
   "metadata": {},
   "source": [
    "Homework **#4** for course **Machine Learning for Data Analysis**\n",
    "## Running a k-means Cluster Analysis"
   ]
  },
  {
   "cell_type": "markdown",
   "metadata": {},
   "source": [
    "### Import required libraries"
   ]
  },
  {
   "cell_type": "code",
   "execution_count": 38,
   "metadata": {},
   "outputs": [],
   "source": [
    "from pandas import Series, DataFrame\n",
    "import pandas as pd\n",
    "import numpy as np\n",
    "import matplotlib.pylab as plt\n",
    "from sklearn.cross_validation import train_test_split\n",
    "from sklearn import preprocessing\n",
    "from sklearn.cluster import KMeans\n",
    "from scipy.spatial.distance import cdist\n",
    "from sklearn.decomposition import PCA\n",
    "import statsmodels.formula.api as smf\n",
    "import statsmodels.stats.multicomp as multi "
   ]
  },
  {
   "cell_type": "markdown",
   "metadata": {},
   "source": [
    "### Loading data"
   ]
  },
  {
   "cell_type": "code",
   "execution_count": 39,
   "metadata": {},
   "outputs": [
    {
     "data": {
      "text/html": [
       "<div>\n",
       "<style>\n",
       "    .dataframe thead tr:only-child th {\n",
       "        text-align: right;\n",
       "    }\n",
       "\n",
       "    .dataframe thead th {\n",
       "        text-align: left;\n",
       "    }\n",
       "\n",
       "    .dataframe tbody tr th {\n",
       "        vertical-align: top;\n",
       "    }\n",
       "</style>\n",
       "<table border=\"1\" class=\"dataframe\">\n",
       "  <thead>\n",
       "    <tr style=\"text-align: right;\">\n",
       "      <th></th>\n",
       "      <th>BIO_SEX</th>\n",
       "      <th>HISPANIC</th>\n",
       "      <th>WHITE</th>\n",
       "      <th>BLACK</th>\n",
       "      <th>NAMERICAN</th>\n",
       "      <th>ASIAN</th>\n",
       "      <th>AGE</th>\n",
       "      <th>TREG1</th>\n",
       "      <th>ALCEVR1</th>\n",
       "      <th>ALCPROBS1</th>\n",
       "      <th>...</th>\n",
       "      <th>ESTEEM1</th>\n",
       "      <th>VIOL1</th>\n",
       "      <th>PASSIST</th>\n",
       "      <th>DEVIANT1</th>\n",
       "      <th>SCHCONN1</th>\n",
       "      <th>GPA1</th>\n",
       "      <th>EXPEL1</th>\n",
       "      <th>FAMCONCT</th>\n",
       "      <th>PARACTV</th>\n",
       "      <th>PARPRES</th>\n",
       "    </tr>\n",
       "  </thead>\n",
       "  <tbody>\n",
       "    <tr>\n",
       "      <th>count</th>\n",
       "      <td>4575.000000</td>\n",
       "      <td>4575.000000</td>\n",
       "      <td>4575.000000</td>\n",
       "      <td>4575.000000</td>\n",
       "      <td>4575.000000</td>\n",
       "      <td>4575.000000</td>\n",
       "      <td>4575.000000</td>\n",
       "      <td>4575.000000</td>\n",
       "      <td>4575.000000</td>\n",
       "      <td>4575.000000</td>\n",
       "      <td>...</td>\n",
       "      <td>4575.000000</td>\n",
       "      <td>4575.000000</td>\n",
       "      <td>4575.000000</td>\n",
       "      <td>4575.000000</td>\n",
       "      <td>4575.000000</td>\n",
       "      <td>4575.000000</td>\n",
       "      <td>4575.000000</td>\n",
       "      <td>4575.000000</td>\n",
       "      <td>4575.000000</td>\n",
       "      <td>4575.000000</td>\n",
       "    </tr>\n",
       "    <tr>\n",
       "      <th>mean</th>\n",
       "      <td>1.521093</td>\n",
       "      <td>0.111038</td>\n",
       "      <td>0.683279</td>\n",
       "      <td>0.236066</td>\n",
       "      <td>0.036284</td>\n",
       "      <td>0.040437</td>\n",
       "      <td>16.493052</td>\n",
       "      <td>0.176393</td>\n",
       "      <td>0.527432</td>\n",
       "      <td>0.369180</td>\n",
       "      <td>...</td>\n",
       "      <td>40.952131</td>\n",
       "      <td>1.618579</td>\n",
       "      <td>0.102514</td>\n",
       "      <td>2.645027</td>\n",
       "      <td>28.360656</td>\n",
       "      <td>2.815647</td>\n",
       "      <td>0.040219</td>\n",
       "      <td>22.570557</td>\n",
       "      <td>6.290710</td>\n",
       "      <td>13.398033</td>\n",
       "    </tr>\n",
       "    <tr>\n",
       "      <th>std</th>\n",
       "      <td>0.499609</td>\n",
       "      <td>0.314214</td>\n",
       "      <td>0.465249</td>\n",
       "      <td>0.424709</td>\n",
       "      <td>0.187017</td>\n",
       "      <td>0.197004</td>\n",
       "      <td>1.552174</td>\n",
       "      <td>0.381196</td>\n",
       "      <td>0.499302</td>\n",
       "      <td>0.894947</td>\n",
       "      <td>...</td>\n",
       "      <td>5.381439</td>\n",
       "      <td>2.593230</td>\n",
       "      <td>0.303356</td>\n",
       "      <td>3.520554</td>\n",
       "      <td>5.156385</td>\n",
       "      <td>0.770167</td>\n",
       "      <td>0.196493</td>\n",
       "      <td>2.614754</td>\n",
       "      <td>3.360219</td>\n",
       "      <td>2.085837</td>\n",
       "    </tr>\n",
       "    <tr>\n",
       "      <th>min</th>\n",
       "      <td>1.000000</td>\n",
       "      <td>0.000000</td>\n",
       "      <td>0.000000</td>\n",
       "      <td>0.000000</td>\n",
       "      <td>0.000000</td>\n",
       "      <td>0.000000</td>\n",
       "      <td>12.676712</td>\n",
       "      <td>0.000000</td>\n",
       "      <td>0.000000</td>\n",
       "      <td>0.000000</td>\n",
       "      <td>...</td>\n",
       "      <td>18.000000</td>\n",
       "      <td>0.000000</td>\n",
       "      <td>0.000000</td>\n",
       "      <td>0.000000</td>\n",
       "      <td>6.000000</td>\n",
       "      <td>1.000000</td>\n",
       "      <td>0.000000</td>\n",
       "      <td>6.300000</td>\n",
       "      <td>0.000000</td>\n",
       "      <td>3.000000</td>\n",
       "    </tr>\n",
       "    <tr>\n",
       "      <th>25%</th>\n",
       "      <td>1.000000</td>\n",
       "      <td>0.000000</td>\n",
       "      <td>0.000000</td>\n",
       "      <td>0.000000</td>\n",
       "      <td>0.000000</td>\n",
       "      <td>0.000000</td>\n",
       "      <td>15.254795</td>\n",
       "      <td>0.000000</td>\n",
       "      <td>0.000000</td>\n",
       "      <td>0.000000</td>\n",
       "      <td>...</td>\n",
       "      <td>38.000000</td>\n",
       "      <td>0.000000</td>\n",
       "      <td>0.000000</td>\n",
       "      <td>0.000000</td>\n",
       "      <td>25.000000</td>\n",
       "      <td>2.250000</td>\n",
       "      <td>0.000000</td>\n",
       "      <td>21.700000</td>\n",
       "      <td>4.000000</td>\n",
       "      <td>12.000000</td>\n",
       "    </tr>\n",
       "    <tr>\n",
       "      <th>50%</th>\n",
       "      <td>2.000000</td>\n",
       "      <td>0.000000</td>\n",
       "      <td>1.000000</td>\n",
       "      <td>0.000000</td>\n",
       "      <td>0.000000</td>\n",
       "      <td>0.000000</td>\n",
       "      <td>16.509589</td>\n",
       "      <td>0.000000</td>\n",
       "      <td>1.000000</td>\n",
       "      <td>0.000000</td>\n",
       "      <td>...</td>\n",
       "      <td>40.000000</td>\n",
       "      <td>0.000000</td>\n",
       "      <td>0.000000</td>\n",
       "      <td>1.000000</td>\n",
       "      <td>29.000000</td>\n",
       "      <td>2.750000</td>\n",
       "      <td>0.000000</td>\n",
       "      <td>23.700000</td>\n",
       "      <td>6.000000</td>\n",
       "      <td>14.000000</td>\n",
       "    </tr>\n",
       "    <tr>\n",
       "      <th>75%</th>\n",
       "      <td>2.000000</td>\n",
       "      <td>0.000000</td>\n",
       "      <td>1.000000</td>\n",
       "      <td>0.000000</td>\n",
       "      <td>0.000000</td>\n",
       "      <td>0.000000</td>\n",
       "      <td>17.679452</td>\n",
       "      <td>0.000000</td>\n",
       "      <td>1.000000</td>\n",
       "      <td>0.000000</td>\n",
       "      <td>...</td>\n",
       "      <td>45.000000</td>\n",
       "      <td>2.000000</td>\n",
       "      <td>0.000000</td>\n",
       "      <td>4.000000</td>\n",
       "      <td>32.000000</td>\n",
       "      <td>3.500000</td>\n",
       "      <td>0.000000</td>\n",
       "      <td>24.300000</td>\n",
       "      <td>9.000000</td>\n",
       "      <td>15.000000</td>\n",
       "    </tr>\n",
       "    <tr>\n",
       "      <th>max</th>\n",
       "      <td>2.000000</td>\n",
       "      <td>1.000000</td>\n",
       "      <td>1.000000</td>\n",
       "      <td>1.000000</td>\n",
       "      <td>1.000000</td>\n",
       "      <td>1.000000</td>\n",
       "      <td>21.512329</td>\n",
       "      <td>1.000000</td>\n",
       "      <td>1.000000</td>\n",
       "      <td>6.000000</td>\n",
       "      <td>...</td>\n",
       "      <td>50.000000</td>\n",
       "      <td>19.000000</td>\n",
       "      <td>1.000000</td>\n",
       "      <td>27.000000</td>\n",
       "      <td>38.000000</td>\n",
       "      <td>4.000000</td>\n",
       "      <td>1.000000</td>\n",
       "      <td>25.000000</td>\n",
       "      <td>18.000000</td>\n",
       "      <td>15.000000</td>\n",
       "    </tr>\n",
       "  </tbody>\n",
       "</table>\n",
       "<p>8 rows × 25 columns</p>\n",
       "</div>"
      ],
      "text/plain": [
       "           BIO_SEX     HISPANIC        WHITE        BLACK    NAMERICAN  \\\n",
       "count  4575.000000  4575.000000  4575.000000  4575.000000  4575.000000   \n",
       "mean      1.521093     0.111038     0.683279     0.236066     0.036284   \n",
       "std       0.499609     0.314214     0.465249     0.424709     0.187017   \n",
       "min       1.000000     0.000000     0.000000     0.000000     0.000000   \n",
       "25%       1.000000     0.000000     0.000000     0.000000     0.000000   \n",
       "50%       2.000000     0.000000     1.000000     0.000000     0.000000   \n",
       "75%       2.000000     0.000000     1.000000     0.000000     0.000000   \n",
       "max       2.000000     1.000000     1.000000     1.000000     1.000000   \n",
       "\n",
       "             ASIAN          AGE        TREG1      ALCEVR1    ALCPROBS1  \\\n",
       "count  4575.000000  4575.000000  4575.000000  4575.000000  4575.000000   \n",
       "mean      0.040437    16.493052     0.176393     0.527432     0.369180   \n",
       "std       0.197004     1.552174     0.381196     0.499302     0.894947   \n",
       "min       0.000000    12.676712     0.000000     0.000000     0.000000   \n",
       "25%       0.000000    15.254795     0.000000     0.000000     0.000000   \n",
       "50%       0.000000    16.509589     0.000000     1.000000     0.000000   \n",
       "75%       0.000000    17.679452     0.000000     1.000000     0.000000   \n",
       "max       1.000000    21.512329     1.000000     1.000000     6.000000   \n",
       "\n",
       "          ...           ESTEEM1        VIOL1      PASSIST     DEVIANT1  \\\n",
       "count     ...       4575.000000  4575.000000  4575.000000  4575.000000   \n",
       "mean      ...         40.952131     1.618579     0.102514     2.645027   \n",
       "std       ...          5.381439     2.593230     0.303356     3.520554   \n",
       "min       ...         18.000000     0.000000     0.000000     0.000000   \n",
       "25%       ...         38.000000     0.000000     0.000000     0.000000   \n",
       "50%       ...         40.000000     0.000000     0.000000     1.000000   \n",
       "75%       ...         45.000000     2.000000     0.000000     4.000000   \n",
       "max       ...         50.000000    19.000000     1.000000    27.000000   \n",
       "\n",
       "          SCHCONN1         GPA1       EXPEL1     FAMCONCT      PARACTV  \\\n",
       "count  4575.000000  4575.000000  4575.000000  4575.000000  4575.000000   \n",
       "mean     28.360656     2.815647     0.040219    22.570557     6.290710   \n",
       "std       5.156385     0.770167     0.196493     2.614754     3.360219   \n",
       "min       6.000000     1.000000     0.000000     6.300000     0.000000   \n",
       "25%      25.000000     2.250000     0.000000    21.700000     4.000000   \n",
       "50%      29.000000     2.750000     0.000000    23.700000     6.000000   \n",
       "75%      32.000000     3.500000     0.000000    24.300000     9.000000   \n",
       "max      38.000000     4.000000     1.000000    25.000000    18.000000   \n",
       "\n",
       "           PARPRES  \n",
       "count  4575.000000  \n",
       "mean     13.398033  \n",
       "std       2.085837  \n",
       "min       3.000000  \n",
       "25%      12.000000  \n",
       "50%      14.000000  \n",
       "75%      15.000000  \n",
       "max      15.000000  \n",
       "\n",
       "[8 rows x 25 columns]"
      ]
     },
     "execution_count": 39,
     "metadata": {},
     "output_type": "execute_result"
    }
   ],
   "source": [
    "data = pd.read_csv(\"addhealth.csv\")\n",
    "data.columns = map(str.upper, data.columns)\n",
    "data_clean = data.dropna()\n",
    "data_clean.dtypes\n",
    "data_clean.describe()"
   ]
  },
  {
   "cell_type": "markdown",
   "metadata": {},
   "source": [
    "### Select predictor variables and target variable, standartize data"
   ]
  },
  {
   "cell_type": "code",
   "execution_count": 40,
   "metadata": {},
   "outputs": [],
   "source": [
    "target = data_clean.TREG1\n",
    "\n",
    "cluster = data_clean[['ALCEVR1','MAREVER1','DEVIANT1','FAMCONCT', 'PARACTV', 'SCHCONN1', 'ALCPROBS1','VIOL1',\n",
    "'DEP1','ESTEEM1','PARPRES']]\n",
    "cluster.describe()\n",
    "\n",
    "clustervar = cluster.copy()\n",
    "clustervar['ALCEVR1'] = preprocessing.scale(clustervar['ALCEVR1'].astype('float64'))\n",
    "clustervar['MAREVER1'] = preprocessing.scale(clustervar['MAREVER1'].astype('float64'))\n",
    "clustervar['DEVIANT1'] = preprocessing.scale(clustervar['DEVIANT1'].astype('float64'))\n",
    "clustervar['FAMCONCT'] = preprocessing.scale(clustervar['FAMCONCT'].astype('float64'))\n",
    "clustervar['PARACTV'] = preprocessing.scale(clustervar['PARACTV'].astype('float64'))\n",
    "clustervar['SCHCONN1'] = preprocessing.scale(clustervar['SCHCONN1'].astype('float64'))\n",
    "clustervar['ALCPROBS1'] = preprocessing.scale(clustervar['ALCPROBS1'].astype('float64'))\n",
    "clustervar['VIOL1'] = preprocessing.scale(clustervar['VIOL1'].astype('float64'))\n",
    "clustervar['DEP1'] = preprocessing.scale(clustervar['DEP1'].astype('float64'))\n",
    "clustervar['ESTEEM1'] = preprocessing.scale(clustervar['ESTEEM1'].astype('float64'))\n",
    "clustervar['PARPRES'] = preprocessing.scale(clustervar['PARPRES'].astype('float64'))\n",
    "\n",
    "clus_train, clus_test = train_test_split(clustervar, test_size=0.3, random_state=3456)\n",
    "\n",
    "clusters=range(1,10)\n",
    "meandist=[]"
   ]
  },
  {
   "cell_type": "markdown",
   "metadata": {},
   "source": [
    "### k-means analysis"
   ]
  },
  {
   "cell_type": "code",
   "execution_count": 41,
   "metadata": {},
   "outputs": [],
   "source": [
    "for k in range(1,10):\n",
    "    model=KMeans(n_clusters=k)\n",
    "    model.fit(clus_train)\n",
    "    prediction = model.predict(clus_train)\n",
    "    meandist.append(sum(np.min(cdist(clus_train, model.cluster_centers_, 'euclidean'), axis=1)))"
   ]
  },
  {
   "cell_type": "markdown",
   "metadata": {},
   "source": [
    "### Selecting k"
   ]
  },
  {
   "cell_type": "code",
   "execution_count": 42,
   "metadata": {},
   "outputs": [
    {
     "data": {
      "image/png": "[encoded data removed]",
      "text/plain": [
       "<matplotlib.figure.Figure at 0x1107df2b0>"
      ]
     },
     "metadata": {},
     "output_type": "display_data"
    }
   ],
   "source": [
    "plt.plot(clusters, meandist)\n",
    "plt.xlabel('Number of clusters')\n",
    "plt.ylabel('Average distance')\n",
    "plt.title('Selecting k with the Elbow Method')\n",
    "plt.show()"
   ]
  },
  {
   "cell_type": "markdown",
   "metadata": {},
   "source": [
    "### k = 3"
   ]
  },
  {
   "cell_type": "code",
   "execution_count": 43,
   "metadata": {
    "collapsed": true
   },
   "outputs": [],
   "source": [
    "model3 = KMeans(n_clusters=3)\n",
    "model3.fit(clus_train)\n",
    "clusassign = model3.predict(clus_train)"
   ]
  },
  {
   "cell_type": "code",
   "execution_count": 44,
   "metadata": {},
   "outputs": [
    {
     "data": {
      "image/png": "[encoded data removed]",
      "text/plain": [
       "<matplotlib.figure.Figure at 0x10281cef0>"
      ]
     },
     "metadata": {},
     "output_type": "display_data"
    }
   ],
   "source": [
    "pca_2 = PCA(2)\n",
    "plot_columns = pca_2.fit_transform(clus_train)\n",
    "plt.scatter(x=plot_columns[:,0], y=plot_columns[:,1], c=model3.labels_,)\n",
    "plt.xlabel('Canonical variable 1')\n",
    "plt.ylabel('Canonical variable 2')\n",
    "plt.title('Scatterplot of Canonical Variables for 3 Clusters')\n",
    "plt.show()"
   ]
  },
  {
   "cell_type": "markdown",
   "metadata": {},
   "source": [
    "### Merging cluster assignment with clustering variables to examine cluster variable means by cluster"
   ]
  },
  {
   "cell_type": "code",
   "execution_count": 45,
   "metadata": {
    "collapsed": true
   },
   "outputs": [],
   "source": [
    "clus_train.reset_index(level=0, inplace=True)\n",
    "cluslist=list(clus_train['index'])\n",
    "labels=list(model3.labels_)\n",
    "newlist=dict(zip(cluslist, labels))"
   ]
  },
  {
   "cell_type": "code",
   "execution_count": 46,
   "metadata": {},
   "outputs": [
    {
     "data": {
      "text/html": [
       "<div>\n",
       "<style>\n",
       "    .dataframe thead tr:only-child th {\n",
       "        text-align: right;\n",
       "    }\n",
       "\n",
       "    .dataframe thead th {\n",
       "        text-align: left;\n",
       "    }\n",
       "\n",
       "    .dataframe tbody tr th {\n",
       "        vertical-align: top;\n",
       "    }\n",
       "</style>\n",
       "<table border=\"1\" class=\"dataframe\">\n",
       "  <thead>\n",
       "    <tr style=\"text-align: right;\">\n",
       "      <th></th>\n",
       "      <th>cluster</th>\n",
       "    </tr>\n",
       "  </thead>\n",
       "  <tbody>\n",
       "    <tr>\n",
       "      <th>count</th>\n",
       "      <td>3202.000000</td>\n",
       "    </tr>\n",
       "    <tr>\n",
       "      <th>mean</th>\n",
       "      <td>0.888819</td>\n",
       "    </tr>\n",
       "    <tr>\n",
       "      <th>std</th>\n",
       "      <td>0.884879</td>\n",
       "    </tr>\n",
       "    <tr>\n",
       "      <th>min</th>\n",
       "      <td>0.000000</td>\n",
       "    </tr>\n",
       "    <tr>\n",
       "      <th>25%</th>\n",
       "      <td>0.000000</td>\n",
       "    </tr>\n",
       "    <tr>\n",
       "      <th>50%</th>\n",
       "      <td>1.000000</td>\n",
       "    </tr>\n",
       "    <tr>\n",
       "      <th>75%</th>\n",
       "      <td>2.000000</td>\n",
       "    </tr>\n",
       "    <tr>\n",
       "      <th>max</th>\n",
       "      <td>2.000000</td>\n",
       "    </tr>\n",
       "  </tbody>\n",
       "</table>\n",
       "</div>"
      ],
      "text/plain": [
       "           cluster\n",
       "count  3202.000000\n",
       "mean      0.888819\n",
       "std       0.884879\n",
       "min       0.000000\n",
       "25%       0.000000\n",
       "50%       1.000000\n",
       "75%       2.000000\n",
       "max       2.000000"
      ]
     },
     "execution_count": 46,
     "metadata": {},
     "output_type": "execute_result"
    }
   ],
   "source": [
    "newclus=DataFrame.from_dict(newlist, orient='index')\n",
    "newclus.columns = ['cluster']\n",
    "newclus.describe()"
   ]
  },
  {
   "cell_type": "markdown",
   "metadata": {},
   "source": [
    "### Calculate clustering variable means by cluster"
   ]
  },
  {
   "cell_type": "code",
   "execution_count": 47,
   "metadata": {},
   "outputs": [
    {
     "data": {
      "text/plain": [
       "0    1451\n",
       "2    1095\n",
       "1     656\n",
       "Name: cluster, dtype: int64"
      ]
     },
     "execution_count": 47,
     "metadata": {},
     "output_type": "execute_result"
    }
   ],
   "source": [
    "newclus.reset_index(level=0, inplace=True)\n",
    "merged_train=pd.merge(clus_train, newclus, on='index')\n",
    "merged_train.head(n=100)\n",
    "merged_train.cluster.value_counts()"
   ]
  },
  {
   "cell_type": "code",
   "execution_count": 48,
   "metadata": {},
   "outputs": [
    {
     "name": "stdout",
     "output_type": "stream",
     "text": [
      "Clustering variable means by cluster\n",
      "               index   ALCEVR1  MAREVER1  DEVIANT1  FAMCONCT   PARACTV  \\\n",
      "cluster                                                                  \n",
      "0        3288.939352 -1.056455 -0.476475 -0.458701  0.303122  0.101777   \n",
      "1        3175.618902  0.680918  1.139960  1.173491 -0.862978 -0.353305   \n",
      "2        3344.515068  0.946562 -0.097991 -0.126163  0.180394  0.095044   \n",
      "\n",
      "         SCHCONN1  ALCPROBS1     VIOL1      DEP1   ESTEEM1   PARPRES  \n",
      "cluster                                                               \n",
      "0        0.334535  -0.412562 -0.278962 -0.277049  0.188721  0.148190  \n",
      "1       -0.890418   1.008171  0.886676  0.848162 -0.638726 -0.488327  \n",
      "2        0.122233  -0.075779 -0.193480 -0.149429  0.136356  0.067939  \n"
     ]
    }
   ],
   "source": [
    "clustergrp = merged_train.groupby('cluster').mean()\n",
    "print (\"Clustering variable means by cluster\")\n",
    "print(clustergrp)"
   ]
  },
  {
   "cell_type": "markdown",
   "metadata": {},
   "source": [
    "### Validating clusters in training data by examining cluster differences in GPA using ANOVA"
   ]
  },
  {
   "cell_type": "code",
   "execution_count": 49,
   "metadata": {},
   "outputs": [],
   "source": [
    "gpa_data=data_clean['GPA1']\n",
    "gpa_train, gpa_test = train_test_split(gpa_data, test_size=.3, random_state=3456)\n",
    "gpa_train1=pd.DataFrame(gpa_train)\n",
    "gpa_train1.reset_index(level=0, inplace=True)\n",
    "merged_train_all=pd.merge(gpa_train1, merged_train, on='index')\n",
    "sub1 = merged_train_all[['GPA1', 'cluster']].dropna()"
   ]
  },
  {
   "cell_type": "code",
   "execution_count": 50,
   "metadata": {},
   "outputs": [
    {
     "name": "stdout",
     "output_type": "stream",
     "text": [
      "                            OLS Regression Results                            \n",
      "==============================================================================\n",
      "Dep. Variable:                   GPA1   R-squared:                       0.083\n",
      "Model:                            OLS   Adj. R-squared:                  0.082\n",
      "Method:                 Least Squares   F-statistic:                     144.1\n",
      "Date:                Mon, 19 Feb 2018   Prob (F-statistic):           1.16e-60\n",
      "Time:                        02:01:06   Log-Likelihood:                -3571.0\n",
      "No. Observations:                3202   AIC:                             7148.\n",
      "Df Residuals:                    3199   BIC:                             7166.\n",
      "Df Model:                           2                                         \n",
      "Covariance Type:            nonrobust                                         \n",
      "===================================================================================\n",
      "                      coef    std err          t      P>|t|      [0.025      0.975]\n",
      "-----------------------------------------------------------------------------------\n",
      "Intercept           2.9947      0.019    154.478      0.000       2.957       3.033\n",
      "C(cluster)[T.1]    -0.5888      0.035    -16.947      0.000      -0.657      -0.521\n",
      "C(cluster)[T.2]    -0.1551      0.030     -5.246      0.000      -0.213      -0.097\n",
      "==============================================================================\n",
      "Omnibus:                      120.409   Durbin-Watson:                   2.024\n",
      "Prob(Omnibus):                  0.000   Jarque-Bera (JB):               84.493\n",
      "Skew:                          -0.290   Prob(JB):                     4.49e-19\n",
      "Kurtosis:                       2.455   Cond. No.                         3.40\n",
      "==============================================================================\n",
      "\n",
      "Warnings:\n",
      "[1] Standard Errors assume that the covariance matrix of the errors is correctly specified.\n"
     ]
    }
   ],
   "source": [
    "gpamod = smf.ols(formula='GPA1 ~ C(cluster)', data=sub1).fit()\n",
    "print (gpamod.summary())"
   ]
  },
  {
   "cell_type": "code",
   "execution_count": 51,
   "metadata": {},
   "outputs": [
    {
     "name": "stdout",
     "output_type": "stream",
     "text": [
      "means for GPA by cluster\n",
      "             GPA1\n",
      "cluster          \n",
      "0        2.994659\n",
      "1        2.405869\n",
      "2        2.839574\n"
     ]
    }
   ],
   "source": [
    "print ('means for GPA by cluster')\n",
    "m1= sub1.groupby('cluster').mean()\n",
    "print (m1)"
   ]
  },
  {
   "cell_type": "code",
   "execution_count": 52,
   "metadata": {},
   "outputs": [
    {
     "name": "stdout",
     "output_type": "stream",
     "text": [
      "standard deviations for GPA by cluster\n",
      "             GPA1\n",
      "cluster          \n",
      "0        0.737537\n",
      "1        0.775745\n",
      "2        0.716408\n"
     ]
    }
   ],
   "source": [
    "print ('standard deviations for GPA by cluster')\n",
    "m2= sub1.groupby('cluster').std()\n",
    "print (m2)"
   ]
  },
  {
   "cell_type": "code",
   "execution_count": 53,
   "metadata": {},
   "outputs": [
    {
     "name": "stdout",
     "output_type": "stream",
     "text": [
      "Multiple Comparison of Means - Tukey HSD,FWER=0.05\n",
      "=============================================\n",
      "group1 group2 meandiff  lower   upper  reject\n",
      "---------------------------------------------\n",
      "  0      1    -0.5888  -0.6703 -0.5073  True \n",
      "  0      2    -0.1551  -0.2244 -0.0858  True \n",
      "  1      2     0.4337   0.3482  0.5192  True \n",
      "---------------------------------------------\n"
     ]
    }
   ],
   "source": [
    "mc1 = multi.MultiComparison(sub1['GPA1'], sub1['cluster'])\n",
    "res1 = mc1.tukeyhsd()\n",
    "print(res1.summary())"
   ]
  }
 ],
 "metadata": {
  "kernelspec": {
   "display_name": "Python 3",
   "language": "python",
   "name": "python3"
  },
  "language_info": {
   "codemirror_mode": {
    "name": "ipython",
    "version": 3
   },
   "file_extension": ".py",
   "mimetype": "text/x-python",
   "name": "python",
   "nbconvert_exporter": "python",
   "pygments_lexer": "ipython3",
   "version": "3.6.2"
  }
 },
 "nbformat": 4,
 "nbformat_minor": 2
}
